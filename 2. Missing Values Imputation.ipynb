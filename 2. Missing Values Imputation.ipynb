{
 "cells": [
  {
   "cell_type": "markdown",
   "id": "6d1e775e",
   "metadata": {},
   "source": [
    "### Imputing Missing Data\n",
    "* Scikit-learn does not support missing values as input, so we need to remove observations with missing data or transform them into permitted values\n",
    "* The act of replacing missing data with statistical estimates of missing values is called imputation\n",
    "* The choice of imputation technique we use will depend on whether the data is missing at random, the number of missing values, and the machine learning model we intend to use\n",
    "\n",
    "### 1. Removing observations with missing data\n",
    "* Complete Case Analysis (CCA) consists of discarding those observations where the values in any of the variables are missing\n",
    "* CCA can be applied to categorical and numerical variables\n",
    "* CCA is quick and easy to implement and has the advantage that it preserves the distribution of the variables, provided the data is missing at random and only a small proportion of the data is missing\n",
    "* However, if data is missing across many variables, CCA may lead to the removal of a big portion of the dataset\n",
    "\n",
    "### 2. Performing mean or median imputation\n",
    "\n",
    "* Mean or median imputation consists of replacing missing values with the variable mean or median\n",
    "* This can only be performed in numerical variables\n",
    "* The mean or the median is calculated using a train set, and these values are used to impute missing data in train and test sets\n",
    "* Use mean imputation if variables are normally distributed and median imputation otherwise\n",
    "* Mean and median imputation may distort the distribution of the original variables if there is a high percentage of missing data\n",
    "\n",
    "### 3. Implementing mode or frequent category imputation\n",
    "* Mode imputation consists of replacing missing values with the mode\n",
    "* We normally use this procedure in categorical variables\n",
    "* If the percentage of missing values is high, frequent category imputation may distort the original distribution of categories\n",
    "*  unlike SimpleImputer() from scikit-learn, FrequentCategoryImputer() will only impute categorical variables and ignores numerical ones\n",
    "\n",
    "### 4. Replacing missing values with an arbitrary number\n",
    "* This method is suitable for numerical variables\n",
    "* When replacing missing values with an arbitrary number, we need to be careful not to select a value close to the mean or the median, or any other common value of the distribution\n",
    "* Arbitrary number imputation can be used when data is not missing at random, when we are building non-linear models, and when the percentage of missing data is high\n",
    "* This imputation technique distorts the original variable distribution\n",
    "* we select arbitrary values that are bigger than the maximum value of the distribution\n",
    "* ArbitraryNumberImputer() will automatically select all numerical variables in the train set; that is, unless we specify which variables to impute in a list\n",
    "\n",
    "### 5. Capturing missing values in a bespoke category\n",
    "* Missing data in categorical variables can be treated as a different category, so it is common to replace missing values with the Missing string\n",
    "* SimpleImputer() from scikit-learn will replace missing values with Missing in both numerical and categorical variables. Be careful of this behavior or you will end up accidentally casting your numerical variables as objects\n",
    "\n",
    "### 6. Replacing missing values with a value at the end of the distribution\n",
    "* Replacing missing values with a value at the end of the variable distribution is equivalent to replacing them with an arbitrary value, but instead of identifying the arbitrary values manually, these values are automatically selected as those at the very end of the variable distribution\n",
    "* The values that are used to replace missing information are estimated using the mean plus or minus three times the standard deviation if the variable is normally distributed, or the inter-quartile range (IQR) proximity rule otherwise\n",
    "* End-of-tail imputation may distort the distribution of the original variables, so it may not be suitable for linear models\n",
    "\n",
    "### 7. Implementing random sample imputation\n",
    "* Random sampling imputation consists of extracting random observations from the pool of available values in the variable\n",
    "* Random sampling imputation preserves the original distribution, which differs from the other imputation techniques\n",
    "\n",
    "* We can only use one pandas Series to replace values in another pandas Series if their indexes are identical, so re-index the extracted random values so that they match the index of the missing values in the original dataframe\n",
    "\n",
    "### 8. Adding a missing value indicator variable\n",
    "* if the data was missing at random, this would be contemplated by the mean, median, or mode imputation, and if it wasn't, this would be captured by the missing indicator\n",
    "\n",
    "\n",
    "\n"
   ]
  },
  {
   "cell_type": "code",
   "execution_count": 1,
   "id": "1e46c56d",
   "metadata": {},
   "outputs": [],
   "source": [
    "# importing necessary libraries\n",
    "import random\n",
    "import pandas as pd\n",
    "import numpy as np\n",
    "\n",
    "from sklearn.model_selection import train_test_split\n",
    "from sklearn.impute import SimpleImputer\n",
    "from sklearn.impute import MissingIndicator\n",
    "\n",
    "from feature_engine.imputation import MeanMedianImputer\n",
    "from feature_engine.imputation import CategoricalImputer\n",
    "from feature_engine.imputation import ArbitraryNumberImputer\n",
    "from feature_engine.imputation import EndTailImputer\n",
    "from feature_engine.imputation import RandomSampleImputer\n",
    "from feature_engine.imputation import AddMissingIndicator"
   ]
  },
  {
   "cell_type": "code",
   "execution_count": 2,
   "id": "ea6e791c",
   "metadata": {},
   "outputs": [],
   "source": [
    "# Dataset preparation steps\n",
    "df = pd.read_csv(r\"C:\\Users\\Honey\\Desktop\\Feature_Engineering_Cookbook\\Datasets\\crx.data\",header=None)\n",
    "varnames = ['A'+str(s) for s in range(1,17)]\n",
    "df.columns = varnames\n",
    "\n",
    "df = df.replace(\"?\",np.nan)\n",
    "df[\"A2\"] = df[\"A2\"].astype('float') # Recast the numerical variables as float data types\n",
    "df[\"A14\"] = df[\"A14\"].astype('float')\n",
    "df[\"A16\"] = df[\"A16\"].map({\"+\":1,\"-\":0}) # Recode the target variable as binary\n",
    "\n",
    "# Add some missing values at random positions\n",
    "random.seed(9001)\n",
    "values = list(set([random.randint(0,len(df)) for p in range(0,100)]))\n",
    "for var in [\"A3\",\"A8\",\"A9\",\"A10\"]:\n",
    "    df.loc[values,var] = np.nan\n",
    "\n",
    "df.to_csv(r'C:\\Users\\Honey\\Desktop\\Feature_Engineering_Cookbook\\Datasets\\creditApprovalUCI.csv',index=False)"
   ]
  },
  {
   "cell_type": "code",
   "execution_count": 3,
   "id": "a78c3f58",
   "metadata": {},
   "outputs": [
    {
     "name": "stdout",
     "output_type": "stream",
     "text": [
      "NUmber of total observations: 690\n",
      "Number of observations with complete cases: 564\n"
     ]
    }
   ],
   "source": [
    "df = pd.read_csv(r'C:\\Users\\Honey\\Desktop\\Feature_Engineering_Cookbook\\Datasets\\creditApprovalUCI.csv')\n",
    "df.isnull().mean().sort_values(ascending=True)\n",
    "df_cca = df.dropna(how='all') #  To remove observations if data is missing in all the variables\n",
    "df_cca = df.dropna(subset=[\"A3\",\"A4\"]) # To remove observations where data is missing in a subset of variables\n",
    "df_cca = df.dropna()\n",
    "df_cca.isnull().mean()\n",
    "print(\"NUmber of total observations: {}\".format(len(df)))\n",
    "print(\"Number of observations with complete cases: {}\".format(len(df_cca)))"
   ]
  },
  {
   "cell_type": "markdown",
   "id": "f9bd81d6",
   "metadata": {},
   "source": [
    "### Missing values imputation using Pandas"
   ]
  },
  {
   "cell_type": "code",
   "execution_count": 4,
   "id": "53930f1f",
   "metadata": {},
   "outputs": [],
   "source": [
    "df = pd.read_csv(r'C:\\Users\\Honey\\Desktop\\Feature_Engineering_Cookbook\\Datasets\\creditApprovalUCI.csv')\n",
    "x_train,x_test,y_train,y_test = train_test_split(df.drop(\"A16\",axis=1), df[\"A16\"], test_size=0.3,random_state=0)\n",
    "x_train.shape, x_test.shape\n",
    "x_train.isnull().mean()\n",
    "\n",
    "for var in [\"A2\",\"A3\",\"A8\",\"A11\",\"A15\"]:\n",
    "    value = x_train[var].mean() # mean imputation\n",
    "    value = x_train[var].median() # median imputation\n",
    "    value = x_train[var].mode()[0] # mode imputation\n",
    "    value = 99 # Arbitrary number imputation\n",
    "    value = \"Missing\" # treating missing values in categorical variables\n",
    "    \n",
    "    # end tail imputation\n",
    "    IQR = x_train[var].quantile(0.75) - x_train[var].quantile(0.25)\n",
    "    value = x_train[var].quantile(0.75) + 1.5*IQR\n",
    "    value = x_train[var].quantile(0.25) - 1.5*IQR\n",
    "    value = x_train[var].mean() + 3*x_train[var].std()\n",
    "    value = x_train[var].mean() - 3*x_train[var].std()\n",
    "    value = x_train[var].max()*3    \n",
    "    \n",
    "    x_train[var].fillna(value,inplace=True)\n",
    "    x_test[var] = x_test[var].fillna(value)\n",
    "\n",
    "# random sample imputation\n",
    "for var in [\"A1\",\"A3\",\"A4\",\"A5\",\"A6\",\"A7\",\"A8\"]:\n",
    "    # extract a random sample\n",
    "    random_sample_train = x_train[var].dropna().sample(x_train[var].isnull().sum(),random_state=0)\n",
    "    random_sample_test = x_train[var].dropna().sample(x_test[var].isnull().sum(),random_state=0)\n",
    "    # re-index the randomly extracted sample\n",
    "    random_sample_train.index = x_train[x_train[var].isnull()].index\n",
    "    random_sample_test.index = x_test[x_test[var].isnull()].index\n",
    "    # replace the NA\n",
    "    x_train.loc[x_train[var].isnull(),var] = random_sample_train\n",
    "    x_test.loc[x_test[var].isnull(),var] = random_sample_test\n",
    "\n",
    "# adding a missing value indicator variable\n",
    "for var in [\"A1\",\"A3\",\"A4\",\"A5\",\"A6\",\"A7\",\"A8\"]:\n",
    "    x_train[var+\"_NA\"] = np.where(x_train[var].isnull(),1,0)\n",
    "    x_test[var+\"_NA\"] = np.where(x_test[var].isnull(),1,0)"
   ]
  },
  {
   "cell_type": "markdown",
   "id": "1af242fe",
   "metadata": {},
   "source": [
    "### Missing values imputation using scikit-learn"
   ]
  },
  {
   "cell_type": "code",
   "execution_count": 5,
   "id": "df3d1edc",
   "metadata": {},
   "outputs": [],
   "source": [
    "x_train,x_test,y_train,y_test = train_test_split(df[[\"A2\",\"A3\",\"A8\",\"A11\",\"A15\"]],df[\"A16\"],test_size=0.3,random_state=0)\n",
    "imputer = SimpleImputer(strategy='mean')\n",
    "imputer = SimpleImputer(strategy='median')\n",
    "imputer = SimpleImputer(strategy='most_frequent')\n",
    "imputer = SimpleImputer(strategy=\"constant\",fill_value=99) \n",
    "# imputer = SimpleImputer(strategy='constant',fill_value='Missing')\n",
    "# imputer = SimpleImputer(strategy='mean', add_indicator=True)\n",
    "\n",
    "imputer.fit(x_train) # learns the median values of the variables\n",
    "imputer.statistics_ # inspect the learned median values\n",
    "x_train = imputer.transform(x_train) # replace missing values with medians\n",
    "x_test = imputer.transform(x_test)\n",
    "x_train = pd.DataFrame(x_train,columns=[\"A2\",\"A3\",\"A8\",\"A11\",\"A15\"])\n",
    "\n",
    "# adding a missing value indicator variable\n",
    "indicator = MissingIndicator(features='missing-only')\n",
    "indicator.fit(x_train)\n",
    "indicator_cols = [c+\"_NA\" for c in x_train.columns[indicator.features_]]\n",
    "x_train = pd.concat([x_train.reset_index(), pd.DataFrame(indicator.transform(x_train),columns=indicator_cols)],axis=1)"
   ]
  },
  {
   "cell_type": "markdown",
   "id": "ab911131",
   "metadata": {},
   "source": [
    "### Missing values imputation using Feature-engine"
   ]
  },
  {
   "cell_type": "code",
   "execution_count": 6,
   "id": "9bb38e02",
   "metadata": {},
   "outputs": [],
   "source": [
    "x_train,x_test,y_train,y_test = train_test_split(df[[\"A2\",\"A3\",\"A8\",\"A11\",\"A15\"]],df[\"A16\"],test_size=0.3,random_state=0)\n",
    "\n",
    "imputer = MeanMedianImputer(imputation_method=\"mean\",variables=[\"A2\",\"A3\",\"A8\",\"A11\",\"A15\"])\n",
    "imputer = MeanMedianImputer(imputation_method=\"median\",variables=[\"A2\",\"A3\",\"A8\",\"A11\",\"A15\"])\n",
    "imputer = CategoricalImputer(imputation_method='frequent',variables = [\"A4\",\"A5\",\"A6\",\"A7\"])\n",
    "imputer = ArbitraryNumberImputer(arbitrary_number=99,variables= [\"A2\",\"A3\",\"A8\",\"A11\"])\n",
    "imputer = CategoricalImputer(variables = ['A4', 'A5', 'A6', 'A7'])\n",
    "imputer = EndTailImputer(imputation_method=\"iqr\",tail=\"right\",variables = ['A2','A3', 'A8', 'A11', 'A15'])\n",
    "imputer = EndTailImputer(imputation_method=\"gaussian\",tail=\"left\",variables = ['A2','A3', 'A8', 'A11', 'A15'])\n",
    "# imputer = RandomSampleImputer(variables=[\"A2\",\"A3\",\"A8\",\"A11\",\"A15\"], random_state=0)\n",
    "# imputer = AddMissingIndicator(variables = ['A2', 'A3'])\n",
    "\n",
    "imputer.fit(x_train)\n",
    "imputer.imputer_dict_\n",
    "x_train = imputer.transform(x_train)\n",
    "x_test = imputer.transform(x_test)"
   ]
  },
  {
   "cell_type": "markdown",
   "id": "3655fc00",
   "metadata": {},
   "source": [
    "### 9. Performing multivariate imputation by chained equations\n",
    "* It is a multiple imputation technique that models each variable with missing values as a function of the remaining variables and uses that estimate for imputation\n",
    "* Each variable with missing data can be modeled based on the remaining variable by using multiple approaches, for example, linear regression, Bayes, decision trees, k-nearest neighbors, and random forests."
   ]
  },
  {
   "cell_type": "code",
   "execution_count": 7,
   "id": "8aeb058c",
   "metadata": {},
   "outputs": [
    {
     "name": "stderr",
     "output_type": "stream",
     "text": [
      "C:\\Users\\Honey\\anaconda3\\lib\\site-packages\\sklearn\\impute\\_iterative.py:699: ConvergenceWarning: [IterativeImputer] Early stopping criterion not reached.\n",
      "  warnings.warn(\n",
      "C:\\Users\\Honey\\anaconda3\\lib\\site-packages\\sklearn\\impute\\_iterative.py:699: ConvergenceWarning: [IterativeImputer] Early stopping criterion not reached.\n",
      "  warnings.warn(\n"
     ]
    },
    {
     "data": {
      "image/png": "[encoded data removed]",
      "text/plain": [
       "<Figure size 432x288 with 1 Axes>"
      ]
     },
     "metadata": {
      "needs_background": "light"
     },
     "output_type": "display_data"
    }
   ],
   "source": [
    "import pandas as pd\n",
    "import matplotlib.pyplot as plt\n",
    "from sklearn.model_selection import train_test_split\n",
    "from sklearn.experimental import enable_iterative_imputer\n",
    "from sklearn.impute import IterativeImputer\n",
    "from sklearn.linear_model import BayesianRidge\n",
    "from sklearn.tree import DecisionTreeRegressor\n",
    "from sklearn.ensemble import ExtraTreesRegressor\n",
    "from sklearn.neighbors import KNeighborsRegressor\n",
    "\n",
    "variables = ['A2','A3','A8', 'A11', 'A14', 'A15', 'A16']\n",
    "data = pd.read_csv(r'C:\\Users\\Honey\\Desktop\\Feature_Engineering_Cookbook\\Datasets\\creditApprovalUCI.csv', usecols=variables)\n",
    "X_train, X_test, y_train, y_test = train_test_split(data.drop('A16', axis=1), data['A16'], test_size=0.3, random_state=0)\n",
    "\n",
    "imputer_bayes = IterativeImputer(estimator=BayesianRidge(), max_iter=10, random_state=0)\n",
    "imputer_knn = IterativeImputer(estimator=KNeighborsRegressor(n_neighbors=5), max_iter=10, random_state=0)\n",
    "imputer_nonLin=IterativeImputer(estimator=DecisionTreeRegressor(max_features='sqrt',random_state=0),max_iter=10,random_state=0)\n",
    "imputer_missForest = IterativeImputer(estimator=ExtraTreesRegressor(n_estimators=10, random_state=0),max_iter=10,random_state=0)\n",
    "\n",
    "imputer_bayes.fit(X_train)\n",
    "imputer_knn.fit(X_train)\n",
    "imputer_nonLin.fit(X_train)\n",
    "imputer_missForest.fit(X_train)\n",
    "\n",
    "X_train_bayes = imputer_bayes.transform(X_train)\n",
    "X_train_knn = imputer_knn.transform(X_train)\n",
    "X_train_nonLin = imputer_nonLin.transform(X_train)\n",
    "X_train_missForest = imputer_missForest.transform(X_train)\n",
    "\n",
    "predictors = [var for var in variables if var !='A16']\n",
    "X_train_bayes = pd.DataFrame(X_train_bayes, columns = predictors)\n",
    "X_train_knn = pd.DataFrame(X_train_knn, columns = predictors)\n",
    "X_train_nonLin = pd.DataFrame(X_train_nonLin, columns = predictors)\n",
    "X_train_missForest = pd.DataFrame(X_train_missForest, columns = predictors)\n",
    "\n",
    "fig = plt.figure()\n",
    "ax = fig.add_subplot(111)\n",
    "X_train['A3'].plot(kind='kde', ax=ax, color='blue')\n",
    "X_train_bayes['A3'].plot(kind='kde', ax=ax, color='green')\n",
    "X_train_knn['A3'].plot(kind='kde', ax=ax, color='red')\n",
    "X_train_nonLin['A3'].plot(kind='kde', ax=ax, color='black')\n",
    "X_train_missForest['A3'].plot(kind='kde', ax=ax, color='orange')\n",
    "# add legends\n",
    "lines, labels = ax.get_legend_handles_labels()\n",
    "labels = ['A3 original', 'A3 bayes', 'A3 knn', 'A3 Trees', 'A3 missForest']\n",
    "ax.legend(lines, labels, loc='best')\n",
    "plt.show()"
   ]
  },
  {
   "cell_type": "markdown",
   "id": "e39c71da",
   "metadata": {},
   "source": [
    "### 10. Assembling an imputation pipeline with scikit-learn\n",
    "* Datasets often contain a mix of numerical and categorical variables. In addition, some variables may contain a few missing data points, while others will contain quite a big proportion. The mechanisms by which data is missing may also vary among variables\n",
    "\n"
   ]
  },
  {
   "cell_type": "code",
   "execution_count": 8,
   "id": "384a7036",
   "metadata": {},
   "outputs": [],
   "source": [
    "\n",
    "import pandas as pd\n",
    "from sklearn.compose import ColumnTransformer\n",
    "from sklearn.pipeline import Pipeline\n",
    "from sklearn.impute import SimpleImputer\n",
    "from sklearn.model_selection import train_test_split\n",
    "\n",
    "data = pd.read_csv(r'C:\\Users\\Honey\\Desktop\\Feature_Engineering_Cookbook\\Datasets\\creditApprovalUCI.csv')\n",
    "X_train, X_test, y_train, y_test = train_test_split(data.drop('A16', axis=1), data['A16'], test_size=0.3, random_state=0)\n",
    "\n",
    "features_num_arbitrary = ['A3', 'A8']\n",
    "features_num_median = ['A2', 'A14']\n",
    "features_cat_frequent = ['A4', 'A5', 'A6', 'A7']\n",
    "features_cat_missing = ['A1', 'A9', 'A10']\n",
    "\n",
    "imputer_num_arbitrary = Pipeline(steps=[('imputer', SimpleImputer(strategy='constant', fill_value=99)),])\n",
    "imputer_num_median = Pipeline(steps=[('imputer', SimpleImputer(strategy='median')),])\n",
    "imputer_cat_frequent = Pipeline(steps=[('imputer', SimpleImputer(strategy='most_frequent')),])\n",
    "imputer_cat_missing = Pipeline(steps=[('imputer', SimpleImputer(strategy='constant',fill_value='Missing')),])\n",
    "\n",
    "preprocessor = ColumnTransformer(transformers=[('imp_num_arbitrary', imputer_num_arbitrary, features_num_arbitrary),\n",
    "                                                 ('imp_num_median', imputer_num_median, features_num_median),\n",
    "                                                 ('imp_cat_frequent', imputer_cat_frequent, features_cat_frequent),\n",
    "                                                 ('imp_cat_missing', imputer_cat_missing, features_cat_missing),],\n",
    "                                 remainder='passthrough')\n",
    "preprocessor.fit(X_train)\n",
    "X_train = preprocessor.transform(X_train)\n",
    "X_test = preprocessor.transform(X_test)"
   ]
  },
  {
   "cell_type": "markdown",
   "id": "6aba7cfc",
   "metadata": {},
   "source": [
    "### 11. Assembling an imputation pipeline with Feature-engine"
   ]
  },
  {
   "cell_type": "code",
   "execution_count": 9,
   "id": "492768b5",
   "metadata": {},
   "outputs": [],
   "source": [
    "import pandas as pd\n",
    "from sklearn.model_selection import train_test_split\n",
    "from sklearn.pipeline import Pipeline\n",
    "\n",
    "from feature_engine.imputation import ArbitraryNumberImputer\n",
    "from feature_engine.imputation import MeanMedianImputer\n",
    "from feature_engine.imputation import CategoricalImputer\n",
    "\n",
    "\n",
    "data = pd.read_csv(r'C:\\Users\\Honey\\Desktop\\Feature_Engineering_Cookbook\\Datasets\\creditApprovalUCI.csv')\n",
    "X_train, X_test, y_train, y_test = train_test_split(data.drop('A16', axis=1), data['A16'], test_size=0.3, random_state=0)\n",
    "\n",
    "features_num_arbitrary = ['A3', 'A8']\n",
    "features_num_median = ['A2', 'A14']\n",
    "features_cat_frequent = ['A4', 'A5', 'A6', 'A7']\n",
    "features_cat_missing = ['A1', 'A9', 'A10']\n",
    "\n",
    "pipe = Pipeline(steps=[('imp_num_arbitrary', ArbitraryNumberImputer(variables = features_num_arbitrary)),\n",
    "                     ('imp_num_median', MeanMedianImputer(imputation_method = 'median', variables=features_num_median)),\n",
    "                     ('imp_cat_frequent', CategoricalImputer(imputation_method='frequent',variables = features_cat_frequent)),\n",
    "                     ('imp_cat_missing', CategoricalImputer(imputation_method='missing',variables=features_cat_missing))])\n",
    "pipe.fit(X_train)\n",
    "X_train = pipe.transform(X_train)\n",
    "X_test = pipe.transform(X_test)"
   ]
  },
  {
   "cell_type": "code",
   "execution_count": null,
   "id": "5f680b5c",
   "metadata": {},
   "outputs": [],
   "source": []
  }
 ],
 "metadata": {
  "kernelspec": {
   "display_name": "Python 3 (ipykernel)",
   "language": "python",
   "name": "python3"
  },
  "language_info": {
   "codemirror_mode": {
    "name": "ipython",
    "version": 3
   },
   "file_extension": ".py",
   "mimetype": "text/x-python",
   "name": "python",
   "nbconvert_exporter": "python",
   "pygments_lexer": "ipython3",
   "version": "3.9.12"
  }
 },
 "nbformat": 4,
 "nbformat_minor": 5
}
