{
 "cells": [
  {
   "cell_type": "code",
   "execution_count": 1,
   "id": "83a4d07d",
   "metadata": {},
   "outputs": [],
   "source": [
    "import pandas as pd\n",
    "import numpy as np\n",
    "\n",
    "from sklearn.preprocessing import OneHotEncoder as OneHotEncoder_sklearn\n",
    "from sklearn.preprocessing import OrdinalEncoder as OrdinalEncoder_sklearn\n",
    "\n",
    "from feature_engine.encoding import OneHotEncoder as OneHotEncoder_feature_engine\n",
    "from feature_engine.encoding import OrdinalEncoder as OrdinalEncoder_feature_engine\n",
    "from feature_engine.encoding import CountFrequencyEncoder as CountFrequencyEncoder_feature_engine\n",
    "from feature_engine.encoding import MeanEncoder as MeanEncoder_feature_engine\n",
    "from feature_engine.encoding import WoEEncoder as WoEEncoder_feature_engine\n",
    "from feature_engine.encoding import RareLabelEncoder as RareLabelEncoder_feature_engine\n",
    "\n",
    "from category_encoders import BinaryEncoder\n",
    "from category_encoders import HashingEncoder\n",
    "\n",
    "df = pd.read_csv(r\"C:\\Users\\Honey\\Desktop\\Feature_Engineering_Cookbook\\Datasets\\creditApproval.csv\")"
   ]
  },
  {
   "cell_type": "markdown",
   "id": "a1d0fe13",
   "metadata": {},
   "source": [
    "### 1. Creating binary variables through one-hot encoding"
   ]
  },
  {
   "cell_type": "code",
   "execution_count": 2,
   "id": "5b4ed23e",
   "metadata": {},
   "outputs": [],
   "source": [
    "# one-hot encoding using pandas get_dummies() function - detects categorical variables automatically\n",
    "df_encoded_1a = pd.get_dummies(df,drop_first=True)"
   ]
  },
  {
   "cell_type": "code",
   "execution_count": 3,
   "id": "da100418",
   "metadata": {},
   "outputs": [],
   "source": [
    "# one-hot encoding using scikit-learn - can't detect categorical variables automatically\n",
    "encoder = OneHotEncoder_sklearn(categories='auto',drop='first',sparse=False)\n",
    "encoder.fit(df[df.columns[df.dtypes == 'O']])\n",
    "df_encoded_1b = encoder.transform(df[df.columns[df.dtypes == \"O\"]])\n",
    "df_encoded_1b = pd.DataFrame(df_encoded_1b)"
   ]
  },
  {
   "cell_type": "code",
   "execution_count": 4,
   "id": "19ed7613",
   "metadata": {},
   "outputs": [],
   "source": [
    "# one-hot encoding using feature-engine - detects categorical variables automatically\n",
    "encoder = OneHotEncoder_feature_engine(top_categories = None, drop_last=True)\n",
    "encoder.fit(df)\n",
    "encoder.encoder_dict_\n",
    "df_encoded_1c = encoder.transform(df)"
   ]
  },
  {
   "cell_type": "markdown",
   "id": "cfdacadb",
   "metadata": {},
   "source": [
    "### 2. Performing one-hot encoding of frequent categories"
   ]
  },
  {
   "cell_type": "code",
   "execution_count": 5,
   "id": "361ce741",
   "metadata": {},
   "outputs": [],
   "source": [
    "# one-hot encoding using numpy where() function\n",
    "top_5_categories = [category for category in df[\"A5\"].value_counts().sort_values(ascending=False).head().index]\n",
    "df_encoded_2a = pd.DataFrame()\n",
    "for category in top_5_categories:\n",
    "    df_encoded_2a[\"A5_\"+category] = np.where(df[\"A5\"]==category,1,0)"
   ]
  },
  {
   "cell_type": "code",
   "execution_count": 6,
   "id": "f36052af",
   "metadata": {},
   "outputs": [],
   "source": [
    "# one-hot encoding using feature-engine\n",
    "encoder = OneHotEncoder_feature_engine(top_categories=5,variables=[\"A5\",\"A6\"],drop_last = False)\n",
    "encoder.fit(df)\n",
    "encoder.encoder_dict_  \n",
    "df_encoded_2c = encoder.transform(df)"
   ]
  },
  {
   "cell_type": "markdown",
   "id": "31615fa2",
   "metadata": {},
   "source": [
    "### 3. Replacing categories with ordinal numbers"
   ]
  },
  {
   "cell_type": "code",
   "execution_count": 7,
   "id": "0323ab59",
   "metadata": {},
   "outputs": [],
   "source": [
    "# # one-hot encoding using enumerate() and map() functions - enumerate is useful for obtaining an indexed list\n",
    "# created a dictionary of key-value pairs, where each key was one of the unique categories, and each value was a digit that would replace the category\n",
    "ordinal_mapping = {key:value for value, key in enumerate(df[\"A6\"].unique(),0)}\n",
    "df_encoded_3a = pd.DataFrame()\n",
    "df_encoded_3a[\"A6\"] = df[\"A6\"].map(ordinal_mapping)"
   ]
  },
  {
   "cell_type": "code",
   "execution_count": 8,
   "id": "316e3fd3",
   "metadata": {},
   "outputs": [],
   "source": [
    "categorical_columns = [category for category in df.columns[df.dtypes==\"O\"]]\n",
    "encoder = OrdinalEncoder_sklearn()\n",
    "encoder.fit(df[categorical_columns])\n",
    "df_encoded_3b = encoder.transform(df[categorical_columns])\n",
    "df_encoded_3b = pd.DataFrame(df_encoded_3b)"
   ]
  },
  {
   "cell_type": "code",
   "execution_count": 9,
   "id": "8321f2ac",
   "metadata": {},
   "outputs": [],
   "source": [
    "encoder = OrdinalEncoder_feature_engine(encoding_method='arbitrary',variables=categorical_columns)\n",
    "encoder.fit(df)\n",
    "encoder.encoder_dict_\n",
    "df_encoded_3c = encoder.transform(df)"
   ]
  },
  {
   "cell_type": "markdown",
   "id": "7bcec6b7",
   "metadata": {},
   "source": [
    "### 4. Replacing categories with counts or frequency of observations"
   ]
  },
  {
   "cell_type": "code",
   "execution_count": 10,
   "id": "0637fe38",
   "metadata": {},
   "outputs": [],
   "source": [
    "df_encoded_4a = pd.DataFrame()\n",
    "count_map = df[\"A6\"].value_counts().to_dict()\n",
    "df_encoded_4a[\"A6_count\"] = df[\"A6\"].map(count_map)\n",
    "frequency_map = (df[\"A6\"].value_counts()/len(df)).to_dict()\n",
    "df_encoded_4a[\"A6_frequency\"] = df[\"A6\"].map(frequency_map)"
   ]
  },
  {
   "cell_type": "code",
   "execution_count": 11,
   "id": "d0b4847c",
   "metadata": {},
   "outputs": [],
   "source": [
    "encoder1 = CountFrequencyEncoder_feature_engine(encoding_method='count',variables=None)\n",
    "# encoder1 = CountFrequencyEncoder_feature_engine(encoding_method='frequency',variables=None)\n",
    "encoder1.fit(df)\n",
    "encoder1.encoder_dict_\n",
    "df_encoded_4c = encoder1.transform(df)"
   ]
  },
  {
   "cell_type": "markdown",
   "id": "6d624506",
   "metadata": {},
   "source": [
    "### 5. Encoding with integers in an ordered manner"
   ]
  },
  {
   "cell_type": "code",
   "execution_count": 12,
   "id": "a450aab1",
   "metadata": {},
   "outputs": [],
   "source": [
    "df_encoded_5a = pd.DataFrame()\n",
    "ordered_labels = df.groupby(\"A6\")[\"A15\"].mean().sort_values().index\n",
    "ordinal_mapping = {key:value for value, key in enumerate(ordered_labels,0)}\n",
    "df_encoded_5a[\"A6\"] = df[\"A6\"].map(ordinal_mapping)"
   ]
  },
  {
   "cell_type": "code",
   "execution_count": 13,
   "id": "2fb89f8f",
   "metadata": {},
   "outputs": [],
   "source": [
    "encoder = OrdinalEncoder_feature_engine(encoding_method=\"ordered\", variables=None)\n",
    "encoder.fit(df,df[\"A15\"])\n",
    "encoder.encoder_dict_\n",
    "df_encoded_5c = encoder.transform(df)"
   ]
  },
  {
   "cell_type": "markdown",
   "id": "95bf81c9",
   "metadata": {},
   "source": [
    "### 6. Encoding with the mean of the target"
   ]
  },
  {
   "cell_type": "code",
   "execution_count": 14,
   "id": "7886b4e6",
   "metadata": {},
   "outputs": [],
   "source": [
    "df_encoded_6a = pd.DataFrame()\n",
    "ordered_labels = df.groupby(\"A6\")[\"A15\"].mean().to_dict()\n",
    "df_encoded_6a[\"A6\"] = df[\"A6\"].map(ordered_labels)"
   ]
  },
  {
   "cell_type": "code",
   "execution_count": 15,
   "id": "2ef7dc67",
   "metadata": {},
   "outputs": [],
   "source": [
    "encoder = MeanEncoder_feature_engine(variables=None)\n",
    "encoder.fit(df,df[\"A15\"])\n",
    "encoder.encoder_dict_\n",
    "df_encoded_6c = encoder.transform(df)"
   ]
  },
  {
   "cell_type": "markdown",
   "id": "afda5937",
   "metadata": {},
   "source": [
    "### 7. Encoding with the Weight of Evidence"
   ]
  },
  {
   "cell_type": "code",
   "execution_count": 16,
   "id": "1534cb22",
   "metadata": {},
   "outputs": [],
   "source": [
    "df_encoded_7a = pd.DataFrame()\n",
    "p1 = df.groupby(\"A0\")[\"A15\"].mean()\n",
    "p0 = 1 - p1\n",
    "woe = dict(np.log(p1/p0))\n",
    "df_encoded_7a[\"A0\"] = df[\"A0\"].map(woe)"
   ]
  },
  {
   "cell_type": "code",
   "execution_count": 17,
   "id": "960fbd9a",
   "metadata": {},
   "outputs": [],
   "source": [
    "encoder = WoEEncoder_feature_engine(variables = [\"A0\",\"A9\",\"A11\"])\n",
    "encoder.fit(df,df[\"A15\"])\n",
    "encoder.encoder_dict_\n",
    "df_encoded_7c = encoder.transform(df)"
   ]
  },
  {
   "cell_type": "markdown",
   "id": "973786ad",
   "metadata": {},
   "source": [
    "### 8. Grouping rare or infrequent categories"
   ]
  },
  {
   "cell_type": "code",
   "execution_count": 18,
   "id": "ff7145e0",
   "metadata": {},
   "outputs": [],
   "source": [
    "df_encoded_8a = pd.DataFrame()\n",
    "temp = df[\"A6\"].value_counts()/len(df)\n",
    "frequent_categories = [category for category in temp.loc[temp>0.05].index.values]\n",
    "df_encoded_8a[\"A6\"] = np.where(df[\"A6\"].isin(frequent_categories),df[\"A6\"],\"Rare\")"
   ]
  },
  {
   "cell_type": "code",
   "execution_count": 19,
   "id": "39c8c155",
   "metadata": {},
   "outputs": [
    {
     "name": "stderr",
     "output_type": "stream",
     "text": [
      "C:\\Users\\Honey\\anaconda3\\lib\\site-packages\\feature_engine\\encoding\\rare_label.py:182: UserWarning: The number of unique categories for variable A0 is less than that indicated in n_categories. Thus, all categories will be considered frequent\n",
      "  warnings.warn(\n",
      "C:\\Users\\Honey\\anaconda3\\lib\\site-packages\\feature_engine\\encoding\\rare_label.py:182: UserWarning: The number of unique categories for variable A3 is less than that indicated in n_categories. Thus, all categories will be considered frequent\n",
      "  warnings.warn(\n",
      "C:\\Users\\Honey\\anaconda3\\lib\\site-packages\\feature_engine\\encoding\\rare_label.py:182: UserWarning: The number of unique categories for variable A4 is less than that indicated in n_categories. Thus, all categories will be considered frequent\n",
      "  warnings.warn(\n",
      "C:\\Users\\Honey\\anaconda3\\lib\\site-packages\\feature_engine\\encoding\\rare_label.py:182: UserWarning: The number of unique categories for variable A8 is less than that indicated in n_categories. Thus, all categories will be considered frequent\n",
      "  warnings.warn(\n",
      "C:\\Users\\Honey\\anaconda3\\lib\\site-packages\\feature_engine\\encoding\\rare_label.py:182: UserWarning: The number of unique categories for variable A9 is less than that indicated in n_categories. Thus, all categories will be considered frequent\n",
      "  warnings.warn(\n",
      "C:\\Users\\Honey\\anaconda3\\lib\\site-packages\\feature_engine\\encoding\\rare_label.py:182: UserWarning: The number of unique categories for variable A11 is less than that indicated in n_categories. Thus, all categories will be considered frequent\n",
      "  warnings.warn(\n",
      "C:\\Users\\Honey\\anaconda3\\lib\\site-packages\\feature_engine\\encoding\\rare_label.py:182: UserWarning: The number of unique categories for variable A12 is less than that indicated in n_categories. Thus, all categories will be considered frequent\n",
      "  warnings.warn(\n"
     ]
    }
   ],
   "source": [
    "encoder = RareLabelEncoder_feature_engine(tol=0.05,n_categories=4)\n",
    "encoder.fit(df)\n",
    "encoder.encoder_dict_\n",
    "df_encoded_8c = encoder.transform(df)"
   ]
  },
  {
   "cell_type": "markdown",
   "id": "fa8fec04",
   "metadata": {},
   "source": [
    "### 9. Performing binary encoding\n"
   ]
  },
  {
   "cell_type": "code",
   "execution_count": 20,
   "id": "b30f1d80",
   "metadata": {},
   "outputs": [],
   "source": [
    "encoder = BinaryEncoder(cols=['A6'], drop_invariant=True)\n",
    "encoder.fit(df)\n",
    "df_encoded_9c = encoder.transform(df)"
   ]
  },
  {
   "cell_type": "markdown",
   "id": "6154c557",
   "metadata": {},
   "source": [
    "### 10. Performing feature hashing"
   ]
  },
  {
   "cell_type": "code",
   "execution_count": 21,
   "id": "2ea9f6be",
   "metadata": {},
   "outputs": [],
   "source": [
    "encoder = HashingEncoder(cols=['A6'], n_components=4)\n",
    "encoder.fit(df)\n",
    "df_encoded_10c = encoder.transform(df)\n"
   ]
  },
  {
   "cell_type": "code",
   "execution_count": null,
   "id": "4f669e3a",
   "metadata": {},
   "outputs": [],
   "source": []
  }
 ],
 "metadata": {
  "kernelspec": {
   "display_name": "Python 3 (ipykernel)",
   "language": "python",
   "name": "python3"
  },
  "language_info": {
   "codemirror_mode": {
    "name": "ipython",
    "version": 3
   },
   "file_extension": ".py",
   "mimetype": "text/x-python",
   "name": "python",
   "nbconvert_exporter": "python",
   "pygments_lexer": "ipython3",
   "version": "3.9.12"
  }
 },
 "nbformat": 4,
 "nbformat_minor": 5
}
