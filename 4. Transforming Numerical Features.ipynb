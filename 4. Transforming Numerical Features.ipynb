{
 "cells": [
  {
   "cell_type": "markdown",
   "id": "8d6acf1c",
   "metadata": {},
   "source": [
    "### Transforming Numerical Features\n",
    "* In case of linear and logistic regression models, features should be Gaussian/normally distributed for better performance\n",
    "* Apply mathematical transformations to change any type of distribution into Gaussian distribution\n",
    "* Commonly used mathematical transformations - logarithm, reciprocal, power, square root, cube root, Box-Cox and Yeo-Johnson"
   ]
  },
  {
   "cell_type": "markdown",
   "id": "11c38a9e",
   "metadata": {},
   "source": [
    "### 1. Transforming features with logarithm function\n",
    "* $\\textbf{Drawback}$ - can't be applied to features which contain negative values\n",
    "\n",
    "### 2. Transforming features with reciprocal function\n",
    "* $\\textbf{Drawback}$ - can't be applied to features which contain zero values\n",
    "\n",
    "### 3. Transforming features with square root function\n",
    "* It is a specific form of power transformation where the exponent is 1/2\n",
    "* $\\textbf{Drawback}$ - can't be applied to features which contain negative values\n",
    "\n",
    "### 4. Transforming features with cube root function\n",
    "* It is a specific form of power transformation where the exponent is 1/3\n",
    "* $\\textbf{Drawback}$ - can't be applied to features which contain negative values\n",
    "\n",
    "### 5. Transforming features with power or exponential function\n",
    "* In practice, we try different exponents to determine which one offers the best transformation\n",
    "\n",
    "### 6. Transforming features with Box-Cox function\n",
    "* It is defined by $\\frac{X^{\\lambda}-1}{\\lambda}$ if $ X > 0 $ or $log(X)$ if $ X = 0 $, where $X$ is the variable and $\\lambda$ is the transformation parameter\n",
    "* several values of $\\lambda$ are considered and the $\\lambda$ that returns the best transformation is selected\n",
    "* $\\textbf{Drawback}$ - can't be applied to features which contain negative values\n",
    "\n",
    "### 7. Transforming features with Yeo-Johnson function\n",
    "* It is an extension of Box-Cox transformation and can be applied to features with zero, negative and positive values"
   ]
  },
  {
   "cell_type": "code",
   "execution_count": 1,
   "id": "efadc86c",
   "metadata": {},
   "outputs": [],
   "source": [
    "# import necessary libraries\n",
    "import pandas as pd\n",
    "import numpy as np\n",
    "import matplotlib.pyplot as plt\n",
    "import scipy.stats as stats\n",
    "from sklearn.datasets import load_boston\n",
    "from sklearn.preprocessing import FunctionTransformer\n",
    "from sklearn.preprocessing import PowerTransformer as PowerTransformer_sklearn\n",
    "from feature_engine.transformation import LogTransformer\n",
    "from feature_engine.transformation import ReciprocalTransformer\n",
    "from feature_engine.transformation import PowerTransformer\n",
    "from feature_engine.transformation import BoxCoxTransformer\n",
    "from feature_engine.transformation import YeoJohnsonTransformer"
   ]
  },
  {
   "cell_type": "code",
   "execution_count": 2,
   "id": "74bd1472",
   "metadata": {
    "collapsed": true
   },
   "outputs": [
    {
     "name": "stderr",
     "output_type": "stream",
     "text": [
      "C:\\Users\\Honey\\anaconda3\\lib\\site-packages\\sklearn\\utils\\deprecation.py:87: FutureWarning: Function load_boston is deprecated; `load_boston` is deprecated in 1.0 and will be removed in 1.2.\n",
      "\n",
      "    The Boston housing prices dataset has an ethical problem. You can refer to\n",
      "    the documentation of this function for further details.\n",
      "\n",
      "    The scikit-learn maintainers therefore strongly discourage the use of this\n",
      "    dataset unless the purpose of the code is to study and educate about\n",
      "    ethical issues in data science and machine learning.\n",
      "\n",
      "    In this special case, you can fetch the dataset from the original\n",
      "    source::\n",
      "\n",
      "        import pandas as pd\n",
      "        import numpy as np\n",
      "\n",
      "\n",
      "        data_url = \"http://lib.stat.cmu.edu/datasets/boston\"\n",
      "        raw_df = pd.read_csv(data_url, sep=\"\\s+\", skiprows=22, header=None)\n",
      "        data = np.hstack([raw_df.values[::2, :], raw_df.values[1::2, :2]])\n",
      "        target = raw_df.values[1::2, 2]\n",
      "\n",
      "    Alternative datasets include the California housing dataset (i.e.\n",
      "    :func:`~sklearn.datasets.fetch_california_housing`) and the Ames housing\n",
      "    dataset. You can load the datasets as follows::\n",
      "\n",
      "        from sklearn.datasets import fetch_california_housing\n",
      "        housing = fetch_california_housing()\n",
      "\n",
      "    for the California housing dataset and::\n",
      "\n",
      "        from sklearn.datasets import fetch_openml\n",
      "        housing = fetch_openml(name=\"house_prices\", as_frame=True)\n",
      "\n",
      "    for the Ames housing dataset.\n",
      "    \n",
      "  warnings.warn(msg, category=FutureWarning)\n"
     ]
    },
    {
     "data": {
      "image/png": "[encoded data removed]",
      "text/plain": [
       "<Figure size 1080x432 with 2 Axes>"
      ]
     },
     "metadata": {
      "needs_background": "light"
     },
     "output_type": "display_data"
    }
   ],
   "source": [
    "boston_dataset = load_boston()\n",
    "df = pd.DataFrame(boston_dataset.data,columns = boston_dataset.feature_names)\n",
    "\n",
    "def diagnostic_plots(df,feature):\n",
    "    plt.figure(figsize=(15,6))\n",
    "    plt.subplot(1,2,1)\n",
    "    df[feature].hist(bins=30)\n",
    "    plt.subplot(1,2,2)\n",
    "    stats.probplot(df[feature], dist=\"norm\",plot=plt)\n",
    "    plt.show()\n",
    "    \n",
    "diagnostic_plots(df,\"LSTAT\") # use this funciton to verify the distribution of variables\n"
   ]
  },
  {
   "cell_type": "markdown",
   "id": "33033313",
   "metadata": {},
   "source": [
    "### Transformation with NumPy\n"
   ]
  },
  {
   "cell_type": "code",
   "execution_count": 3,
   "id": "16e1e414",
   "metadata": {},
   "outputs": [],
   "source": [
    "df_numpy = df.copy()\n",
    "df_numpy[[\"LSTAT\", \"NOX\", \"DIS\", \"RM\"]] = np.log(df[[\"LSTAT\", \"NOX\", \"DIS\", \"RM\"]])\n",
    "df_numpy[[\"LSTAT\", \"NOX\", \"DIS\", \"RM\"]] = np.reciprocal(df[[\"LSTAT\", \"NOX\", \"DIS\", \"RM\"]])\n",
    "df_numpy[[\"LSTAT\", \"NOX\", \"DIS\", \"RM\"]] = np.sqrt(df[[\"LSTAT\", \"NOX\", \"DIS\", \"RM\"]])\n",
    "df_numpy[[\"LSTAT\", \"NOX\", \"DIS\", \"RM\"]] = np.cbrt(df[[\"LSTAT\", \"NOX\", \"DIS\", \"RM\"]])\n",
    "df_numpy[[\"LSTAT\", \"NOX\", \"DIS\", \"RM\"]] = np.power(df[[\"LSTAT\", \"NOX\", \"DIS\", \"RM\"]],0.3)\n",
    "\n",
    "# scipy.stats.boxcox() or scipy.stats.yeojohnson() can only be applied to one variable at a time, and returns two parameters:\n",
    "# the transformed variable and the optimal lambda for the transformation, which we capture in the param variable\n",
    "df_numpy['LSTAT'], param = stats.boxcox(df[\"LSTAT\"])\n",
    "df_numpy['LSTAT'], param = stats.yeojohnson(df[\"LSTAT\"])\n"
   ]
  },
  {
   "cell_type": "markdown",
   "id": "a5e6f49e",
   "metadata": {},
   "source": [
    "### Transformation with scikit-learn"
   ]
  },
  {
   "cell_type": "code",
   "execution_count": 4,
   "id": "aecf8617",
   "metadata": {},
   "outputs": [],
   "source": [
    "df_sklearn = df.copy()\n",
    "# FunctionTransformer() doesn't need to be fit before transforming data\n",
    "# since there are no parameters to be learned from train set\n",
    "transformer = FunctionTransformer(np.log)\n",
    "transformer = FunctionTransformer(np.reciprocal)\n",
    "transformer = FunctionTransformer(np.sqrt)\n",
    "transformer = FunctionTransformer(np.cbrt)\n",
    "transformer = FunctionTransformer(lambda x : np.power(x,0.3))\n",
    "\n",
    "df_sklearn[[\"LSTAT\", \"NOX\", \"DIS\", \"RM\"]] = transformer.transform(df[[\"LSTAT\", \"NOX\", \"DIS\", \"RM\"]])\n",
    " \n",
    "# PowerTransformer() need to be fit before transforming data\n",
    "transformer = PowerTransformer_sklearn(method='box-cox', standardize=False)\n",
    "transformer = PowerTransformer_sklearn(method='yeo-johnson', standardize=False)\n",
    "\n",
    "transformer.fit(df[['LSTAT', 'NOX', 'DIS', 'RM']])\n",
    "transformer.lambdas_ # shows optimum value of lamdba\n",
    "df_sklearn_series = transformer.transform(df[['LSTAT', 'NOX', 'DIS', 'RM']])\n",
    "df_sklearn = pd.DataFrame(df_sklearn_series,columns=['LSTAT', 'NOX', 'DIS', 'RM'])"
   ]
  },
  {
   "cell_type": "markdown",
   "id": "812349f4",
   "metadata": {},
   "source": [
    "### Transformation with Feature-engine\n"
   ]
  },
  {
   "cell_type": "code",
   "execution_count": 5,
   "id": "f07030d0",
   "metadata": {},
   "outputs": [],
   "source": [
    "# If variables = None, transformer identifies and applies the transformation to all the numerical variables in the dataset\n",
    "transformer = LogTransformer(variables=[\"LSTAT\", \"NOX\", \"DIS\", \"RM\"])\n",
    "transformer = ReciprocalTransformer(variables=[\"LSTAT\", \"NOX\", \"DIS\", \"RM\"])\n",
    "transformer = PowerTransformer(variables=[\"LSTAT\", \"NOX\", \"DIS\", \"RM\"],exp=1/2)\n",
    "transformer = PowerTransformer(variables=[\"LSTAT\", \"NOX\", \"DIS\", \"RM\"],exp=1/3)\n",
    "transformer = PowerTransformer(variables=[\"LSTAT\", \"NOX\", \"DIS\", \"RM\"],exp=0.3)\n",
    "transformer = BoxCoxTransformer(variables=[\"LSTAT\", \"NOX\", \"DIS\", \"RM\"])\n",
    "transformer = YeoJohnsonTransformer(variables=[\"LSTAT\", \"NOX\", \"DIS\", \"RM\"])\n",
    "\n",
    "transformer.fit(df)\n",
    "transformer.lambda_dict_ # should be used only for box-cox and yeo-johnson functions\n",
    "df_feature_engine = transformer.transform(df)"
   ]
  },
  {
   "cell_type": "code",
   "execution_count": null,
   "id": "b098cfbe",
   "metadata": {},
   "outputs": [],
   "source": []
  }
 ],
 "metadata": {
  "kernelspec": {
   "display_name": "Python 3 (ipykernel)",
   "language": "python",
   "name": "python3"
  },
  "language_info": {
   "codemirror_mode": {
    "name": "ipython",
    "version": 3
   },
   "file_extension": ".py",
   "mimetype": "text/x-python",
   "name": "python",
   "nbconvert_exporter": "python",
   "pygments_lexer": "ipython3",
   "version": "3.9.12"
  }
 },
 "nbformat": 4,
 "nbformat_minor": 5
}
